{
  "nbformat": 4,
  "nbformat_minor": 0,
  "metadata": {
    "colab": {
      "provenance": [],
      "authorship_tag": "ABX9TyOPRCW8ZNSm2IAPPU9pwFyf",
      "include_colab_link": true
    },
    "kernelspec": {
      "name": "python3",
      "display_name": "Python 3"
    },
    "language_info": {
      "name": "python"
    }
  },
  "cells": [
    {
      "cell_type": "markdown",
      "metadata": {
        "id": "view-in-github",
        "colab_type": "text"
      },
      "source": [
        "<a href=\"https://colab.research.google.com/github/TheeraphatKhiangphukhiao/trainflowermodel/blob/main/trainflowermodel.ipynb\" target=\"_parent\"><img src=\"https://colab.research.google.com/assets/colab-badge.svg\" alt=\"Open In Colab\"/></a>"
      ]
    },
    {
      "cell_type": "markdown",
      "source": [
        "***ทำการเชื่อมต่อ Google Drive เพื่อที่จะโหลดรูปภาพดอกไม้เข้ามาทำงาน***"
      ],
      "metadata": {
        "id": "UgKH88SUdYqB"
      }
    },
    {
      "cell_type": "code",
      "execution_count": null,
      "metadata": {
        "colab": {
          "base_uri": "https://localhost:8080/"
        },
        "id": "gXiimoMJWi3d",
        "outputId": "458173ab-84ab-49ad-86ff-0d57a2318f09"
      },
      "outputs": [
        {
          "output_type": "stream",
          "name": "stdout",
          "text": [
            "Mounted at /content/drive\n"
          ]
        }
      ],
      "source": [
        "from google.colab import drive\n",
        "drive.mount('/content/drive')"
      ]
    },
    {
      "cell_type": "markdown",
      "source": [
        "***ทําการ import library สําหรับการสร้าง model***"
      ],
      "metadata": {
        "id": "hbFczW50fcG_"
      }
    },
    {
      "cell_type": "code",
      "source": [
        "from numpy import unique\n",
        "from numpy import argmax\n",
        "from tensorflow.keras import Sequential\n",
        "from tensorflow.keras.layers import Dense\n",
        "from tensorflow.keras.layers import Conv2D\n",
        "from tensorflow.keras.layers import MaxPooling2D\n",
        "from tensorflow.keras.layers import Flatten\n",
        "from tensorflow.keras.layers import Dropout"
      ],
      "metadata": {
        "id": "tUTYoIDCfgiA"
      },
      "execution_count": null,
      "outputs": []
    },
    {
      "cell_type": "code",
      "source": [
        "from os import listdir\n",
        "from os.path import isfile, join\n",
        "from sklearn import preprocessing\n",
        "from tqdm import tqdm\n",
        "import os\n",
        "import cv2\n",
        "import numpy as np\n",
        "import joblib"
      ],
      "metadata": {
        "id": "9coJSjgifnqd"
      },
      "execution_count": null,
      "outputs": []
    },
    {
      "cell_type": "markdown",
      "source": [
        "***ทำการกำหนด Path ที่เก็บข้อมูลรูปภาพดอกไม้***"
      ],
      "metadata": {
        "id": "WJ8H0xiNfuf4"
      }
    },
    {
      "cell_type": "code",
      "source": [
        "width = 28 # ทำการปรับขนาดความกว้างความสูงของรูปภาพทั้งหมดให้เป็น 128 x 128 Pixel\n",
        "train_path = '/content/drive/MyDrive/AI Deep Learning/AI Project/Dataset/train/'\n",
        "test_path = '/content/drive/MyDrive/AI Deep Learning/AI Project/Dataset/test/'"
      ],
      "metadata": {
        "id": "z-1E1Ouufwqh"
      },
      "execution_count": null,
      "outputs": []
    },
    {
      "cell_type": "markdown",
      "source": [
        "***ชุดข้อมูลจะประกอบไปด้วยภาพดอกไม้ 10 ประเภท ประกอบไปด้วยชุดข้อมูลที่เอาไว้ Train 9817 รูป เเละชุดข้อมูลที่เอาไว้ Test 70 รูป เเบ่งประเภทละ 10 รูป เเละรองรับการจดจำดอกไม้ประเภทต่อไปนี้ water_lily , tulip , sunflower , rose , iris , common_daisy , carnation , calendula , black_eyed_susan , bellflower***"
      ],
      "metadata": {
        "id": "w3_GirsfAtX-"
      }
    },
    {
      "cell_type": "code",
      "source": [
        "# ทำการอ่านจำนวนประเภทของดอกไม้ 10 ชนิดมาเก็บไว้ในตัวเเปร class_names ที่มีชนิดเป็น List\n",
        "# ซึ่งชนิดของดอกไม้จะเป็นชื่อของ โฟลเดอร์ ที่เก็บรูปภาพไว้\n",
        "class_names = []\n",
        "for class_name in os.listdir(train_path):\n",
        "  class_names.append(class_name) # นำชื่อ class ไปเก็บไว้ในตัวเเปร class_names\n",
        "print(class_names)\n",
        "num_classes = len(class_names)\n",
        "print(num_classes)"
      ],
      "metadata": {
        "colab": {
          "base_uri": "https://localhost:8080/"
        },
        "id": "O88Bh8fBgcY2",
        "outputId": "16a16ae7-fad2-4b1e-f829-aaee74d700bf"
      },
      "execution_count": null,
      "outputs": [
        {
          "output_type": "stream",
          "name": "stdout",
          "text": [
            "['water_lily', 'tulip', 'sunflower', 'rose', 'iris', 'common_daisy', 'carnation', 'calendula', 'black_eyed_susan', 'bellflower']\n",
            "10\n"
          ]
        }
      ]
    },
    {
      "cell_type": "code",
      "source": [
        "# ทำการสร้าง Path ที่ชี้ไปยังโฟลเดอร์ที่เก็บรูปภาพเอาไว้ โดยผลลัพธ์จะได้เป็น List ที่เก็บ Path ของโฟลเดอร์ประเภทดอกไม้ 14 ชนิด\n",
        "# เช่น /content/drive/MyDrive/AI Deep Learning/AI Project/Dataset/train/water_lily หรือ /content/drive/MyDrive/AI Deep Learning/AI Project/Dataset/train/tulip\n",
        "train_img = [train_path+f for f in listdir(train_path) if listdir(join(train_path, f))]\n",
        "test_img = [test_path+f for f in listdir(train_path) if listdir(join(test_path, f))]\n",
        "print(train_img)\n",
        "print(test_img)"
      ],
      "metadata": {
        "colab": {
          "base_uri": "https://localhost:8080/"
        },
        "id": "R06YO0-ngqBG",
        "outputId": "450e0a50-bab9-4496-d2fb-e154ba46760b"
      },
      "execution_count": null,
      "outputs": [
        {
          "output_type": "stream",
          "name": "stdout",
          "text": [
            "['/content/drive/MyDrive/AI Deep Learning/AI Project/Dataset/train/water_lily', '/content/drive/MyDrive/AI Deep Learning/AI Project/Dataset/train/tulip', '/content/drive/MyDrive/AI Deep Learning/AI Project/Dataset/train/sunflower', '/content/drive/MyDrive/AI Deep Learning/AI Project/Dataset/train/rose', '/content/drive/MyDrive/AI Deep Learning/AI Project/Dataset/train/iris', '/content/drive/MyDrive/AI Deep Learning/AI Project/Dataset/train/common_daisy', '/content/drive/MyDrive/AI Deep Learning/AI Project/Dataset/train/carnation', '/content/drive/MyDrive/AI Deep Learning/AI Project/Dataset/train/calendula', '/content/drive/MyDrive/AI Deep Learning/AI Project/Dataset/train/black_eyed_susan', '/content/drive/MyDrive/AI Deep Learning/AI Project/Dataset/train/bellflower']\n",
            "['/content/drive/MyDrive/AI Deep Learning/AI Project/Dataset/test/water_lily', '/content/drive/MyDrive/AI Deep Learning/AI Project/Dataset/test/tulip', '/content/drive/MyDrive/AI Deep Learning/AI Project/Dataset/test/sunflower', '/content/drive/MyDrive/AI Deep Learning/AI Project/Dataset/test/rose', '/content/drive/MyDrive/AI Deep Learning/AI Project/Dataset/test/iris', '/content/drive/MyDrive/AI Deep Learning/AI Project/Dataset/test/common_daisy', '/content/drive/MyDrive/AI Deep Learning/AI Project/Dataset/test/carnation', '/content/drive/MyDrive/AI Deep Learning/AI Project/Dataset/test/calendula', '/content/drive/MyDrive/AI Deep Learning/AI Project/Dataset/test/black_eyed_susan', '/content/drive/MyDrive/AI Deep Learning/AI Project/Dataset/test/bellflower']\n"
          ]
        }
      ]
    },
    {
      "cell_type": "code",
      "source": [
        "def img2Data(path):\n",
        "  rawImgs = []\n",
        "  labels = []\n",
        "  c =0\n",
        "  for imagePath in os.listdir(path):\n",
        "    for item in tqdm(os.listdir(os.path.join(path,imagePath))):\n",
        "      file = os.path.join(path, imagePath+\"/\"+item)\n",
        "      c+=1\n",
        "      labels.append([imagePath])\n",
        "\n",
        "      img = cv2.imread(file, cv2.COLOR_BGR2RGB) # ทำการโหลดรูปภาพเข้ามา เป็นรูปภาพเเบบ RGB\n",
        "      img = cv2.resize(img ,(width, width))\n",
        "      assert img.shape == (width, width, 3), f\"Invalid image shape for file: {file}\"\n",
        "      rawImgs.append(img)\n",
        "  return rawImgs, labels\n",
        "\n",
        "x_train, y_train = img2Data(train_path) # เรียกใช้ฟังก์ชัน img2Data เพื่อโหลดข้อมูลภาพจากไดเรกทอรี train_path เเละ test_path\n",
        "x_test, y_test = img2Data(test_path)"
      ],
      "metadata": {
        "colab": {
          "base_uri": "https://localhost:8080/"
        },
        "id": "qBcSlNjjgzQc",
        "outputId": "949d168f-4066-4964-c80e-918798da1bb0"
      },
      "execution_count": null,
      "outputs": [
        {
          "output_type": "stream",
          "name": "stderr",
          "text": [
            "100%|██████████| 978/978 [00:22<00:00, 42.58it/s] \n",
            "100%|██████████| 1033/1033 [00:19<00:00, 53.57it/s] \n",
            "100%|██████████| 1013/1013 [00:20<00:00, 48.88it/s]\n",
            "100%|██████████| 986/986 [00:17<00:00, 55.85it/s] \n",
            "100%|██████████| 1041/1041 [00:25<00:00, 41.40it/s] \n",
            "100%|██████████| 978/978 [00:14<00:00, 65.86it/s] \n",
            "100%|██████████| 920/920 [00:23<00:00, 38.56it/s] \n",
            "100%|██████████| 1011/1011 [00:15<00:00, 63.59it/s]\n",
            "100%|██████████| 986/986 [00:16<00:00, 59.40it/s] \n",
            "100%|██████████| 871/871 [00:13<00:00, 65.08it/s] \n",
            "100%|██████████| 7/7 [00:01<00:00,  4.70it/s]\n",
            "100%|██████████| 7/7 [00:01<00:00,  4.63it/s]\n",
            "100%|██████████| 7/7 [00:01<00:00,  4.10it/s]\n",
            "100%|██████████| 7/7 [00:01<00:00,  4.77it/s]\n",
            "100%|██████████| 7/7 [00:01<00:00,  4.18it/s]\n",
            "100%|██████████| 7/7 [00:01<00:00,  4.00it/s]\n",
            "100%|██████████| 7/7 [00:02<00:00,  3.20it/s]\n",
            "100%|██████████| 7/7 [00:02<00:00,  3.40it/s]\n",
            "100%|██████████| 7/7 [00:01<00:00,  4.23it/s]\n",
            "100%|██████████| 7/7 [00:01<00:00,  4.45it/s]\n"
          ]
        }
      ]
    },
    {
      "cell_type": "markdown",
      "source": [
        "***ทำการเเปลงข้อมูล x_train, x_test, y_train, y_test ที่มีชนิดข้อมูลเป็น List ไปเป็น NumPyarrays***"
      ],
      "metadata": {
        "id": "qPpys88Nkdt7"
      }
    },
    {
      "cell_type": "code",
      "source": [
        "# ทำการเเปลงข้อมูล x_train, x_test, y_train, y_test ที่มีชนิดข้อมูลเป็น List ไปเป็น NumPyarrays\n",
        "# เพื่อที่จะช่วยให้เราใช้ไลบรารี TensorFlow หรือ Keras ได้ง่ายขึ้น เนื่องจากเหมาะสมกับโครงสร้างของข้อมูลภาพใน TensorFlow/Keras\n",
        "import numpy as np\n",
        "\n",
        "x_train = np.array(x_train)\n",
        "x_test = np.array(x_test)\n",
        "\n",
        "y_train = np.array(y_train)\n",
        "y_test = np.array(y_test)"
      ],
      "metadata": {
        "id": "o86ejLQhkgCx"
      },
      "execution_count": null,
      "outputs": []
    },
    {
      "cell_type": "markdown",
      "source": [
        "***ทำการเเสดง จำนวนตัวอย่าง ความสูง ความกว้าง ช่องสี เเต่ในงานนี้มีช่องสี 3 สี ก็คือ RGB***"
      ],
      "metadata": {
        "id": "jot5e-gdldpJ"
      }
    },
    {
      "cell_type": "code",
      "source": [
        "# ทำการเเสดงขนาดของรูปออกมา\n",
        "print(x_train.shape) # มี data 13648 มีขนาด 128 x 128\n",
        "print(x_test.shape) # มี data 98 มีขนาด 128 x 128"
      ],
      "metadata": {
        "colab": {
          "base_uri": "https://localhost:8080/"
        },
        "id": "ZacFubnlk01H",
        "outputId": "1b169100-321e-41b1-973a-e9bcc7d7d148"
      },
      "execution_count": null,
      "outputs": [
        {
          "output_type": "stream",
          "name": "stdout",
          "text": [
            "(9817, 28, 28, 3)\n",
            "(70, 28, 28, 3)\n"
          ]
        }
      ]
    },
    {
      "cell_type": "code",
      "source": [
        "# เเสดงรูปภาพออกมา\n",
        "from matplotlib import pyplot as plt\n",
        "def display_image(i):\n",
        "  plt.imshow(x_train[i], cmap = 'gray')\n",
        "  plt.title(y_train[i]) # เเสดง class ในที่นี้คือเลข 5\n",
        "  plt.axis('off') # ไม่เเสดงเเกน\n",
        "\n",
        "display_image(9800)"
      ],
      "metadata": {
        "colab": {
          "base_uri": "https://localhost:8080/",
          "height": 428
        },
        "id": "cYy8ePhbC4pS",
        "outputId": "2e2c5785-96e6-4064-b0e6-f202e30f5a69"
      },
      "execution_count": null,
      "outputs": [
        {
          "output_type": "display_data",
          "data": {
            "text/plain": [
              "<Figure size 640x480 with 1 Axes>"
            ],
            "image/png": "[encoded data removed]"
          },
          "metadata": {}
        }
      ]
    },
    {
      "cell_type": "code",
      "source": [
        "class_name = unique(y_train)\n",
        "print(class_name)"
      ],
      "metadata": {
        "colab": {
          "base_uri": "https://localhost:8080/"
        },
        "id": "C9oD53jak_Lh",
        "outputId": "53d8ca41-4f31-4497-9bd4-4ea6ce1a3036"
      },
      "execution_count": null,
      "outputs": [
        {
          "output_type": "stream",
          "name": "stdout",
          "text": [
            "['bellflower' 'black_eyed_susan' 'calendula' 'carnation' 'common_daisy'\n",
            " 'iris' 'rose' 'sunflower' 'tulip' 'water_lily']\n"
          ]
        }
      ]
    },
    {
      "cell_type": "markdown",
      "source": [
        "***ทำการเข้ารหัสเเบบ Label Encoding เพื่อพยายามรักษาความหมายของ ประเภทดอกไม้ ที่เป็นข้อความ***"
      ],
      "metadata": {
        "id": "wGtRKY19AU4S"
      }
    },
    {
      "cell_type": "code",
      "source": [
        "#ทำการเเปลงประเภทดอกไม้ที่เป็นข้อความ ให้ไปเป็นตัวเลข\n",
        "#สามารถแทนที่องค์ประกอบเหล่านี้ด้วย 0, 1, 2, 3, 4, 5, 6, 7, 8, 9 ที่เเทนความหมายของประเภทดอกไม้ เเต่ละชนิด\n",
        "label_encoder = preprocessing.LabelEncoder()\n",
        "y_train = label_encoder.fit_transform(y_train)\n",
        "y_test = label_encoder.fit_transform(y_test)"
      ],
      "metadata": {
        "id": "AO2vA5MYo4RR",
        "colab": {
          "base_uri": "https://localhost:8080/"
        },
        "outputId": "cb85c498-6e2d-40ee-b251-a8af2651acaa"
      },
      "execution_count": null,
      "outputs": [
        {
          "output_type": "stream",
          "name": "stderr",
          "text": [
            "/usr/local/lib/python3.10/dist-packages/sklearn/preprocessing/_label.py:116: DataConversionWarning: A column-vector y was passed when a 1d array was expected. Please change the shape of y to (n_samples, ), for example using ravel().\n",
            "  y = column_or_1d(y, warn=True)\n",
            "/usr/local/lib/python3.10/dist-packages/sklearn/preprocessing/_label.py:116: DataConversionWarning: A column-vector y was passed when a 1d array was expected. Please change the shape of y to (n_samples, ), for example using ravel().\n",
            "  y = column_or_1d(y, warn=True)\n"
          ]
        }
      ]
    },
    {
      "cell_type": "code",
      "source": [
        "y_train"
      ],
      "metadata": {
        "colab": {
          "base_uri": "https://localhost:8080/"
        },
        "id": "B0so8ALcpdrN",
        "outputId": "c5bcb3c8-431d-44cd-ae53-076def46cd0e"
      },
      "execution_count": null,
      "outputs": [
        {
          "output_type": "execute_result",
          "data": {
            "text/plain": [
              "array([9, 9, 9, ..., 0, 0, 0])"
            ]
          },
          "metadata": {},
          "execution_count": 13
        }
      ]
    },
    {
      "cell_type": "code",
      "source": [
        "# เเสดงรูปภาพออกมา\n",
        "from matplotlib import pyplot as plt\n",
        "def display_image(i):\n",
        "  plt.imshow(x_train[i], cmap = 'gray')\n",
        "  plt.title(y_train[i]) # เเสดง class ในที่นี้คือเลข 5\n",
        "  plt.axis('off') # ไม่เเสดงเเกน\n",
        "\n",
        "display_image(9800)"
      ],
      "metadata": {
        "colab": {
          "base_uri": "https://localhost:8080/",
          "height": 428
        },
        "id": "ZQtijmylc0jK",
        "outputId": "1991c29b-d841-4f08-c1de-f5f0fa2c86ea"
      },
      "execution_count": null,
      "outputs": [
        {
          "output_type": "display_data",
          "data": {
            "text/plain": [
              "<Figure size 640x480 with 1 Axes>"
            ],
            "image/png": "[encoded data removed]"
          },
          "metadata": {}
        }
      ]
    },
    {
      "cell_type": "markdown",
      "source": [
        "***ทําการพิจารณาขนาดของ Input***"
      ],
      "metadata": {
        "id": "Pn2RivgyFuji"
      }
    },
    {
      "cell_type": "code",
      "source": [
        "# determine the shape of the input images\n",
        "in_shape = x_train.shape[1:]"
      ],
      "metadata": {
        "id": "V2-qHT5XpwAY"
      },
      "execution_count": null,
      "outputs": []
    },
    {
      "cell_type": "markdown",
      "source": [
        "***ทําการพิจารณาจํานวนคลาสของข้อมูล***"
      ],
      "metadata": {
        "id": "9Eri6uuKF2sp"
      }
    },
    {
      "cell_type": "code",
      "source": [
        "# determine the number of classes\n",
        "\n",
        "n_classes = len(unique(y_train))\n",
        "print(in_shape, n_classes)"
      ],
      "metadata": {
        "colab": {
          "base_uri": "https://localhost:8080/"
        },
        "id": "mwspkK3tp3MF",
        "outputId": "1f5c6bb9-3ecf-4828-f455-d1860029952b"
      },
      "execution_count": null,
      "outputs": [
        {
          "output_type": "stream",
          "name": "stdout",
          "text": [
            "(28, 28, 3) 10\n"
          ]
        }
      ]
    },
    {
      "cell_type": "markdown",
      "source": [
        "***เเสดงข้อมูล y_train ที่ผ่านกระบวนการ Label Encoding มาเเล้ว***"
      ],
      "metadata": {
        "id": "WPyY_YRN8cdU"
      }
    },
    {
      "cell_type": "code",
      "source": [
        "unique_classes = np.unique(y_train) #โดยคำสั่ง unique จะเป็นการหาค่าที่ไม่ซํ้ากันในตัวเเปร y_train\n",
        "\n",
        "print(unique_classes)"
      ],
      "metadata": {
        "colab": {
          "base_uri": "https://localhost:8080/"
        },
        "id": "qkW-fQchvcCU",
        "outputId": "f3c163f6-41e0-48d7-a034-2f731e40b66b"
      },
      "execution_count": null,
      "outputs": [
        {
          "output_type": "stream",
          "name": "stdout",
          "text": [
            "[0 1 2 3 4 5 6 7 8 9]\n"
          ]
        }
      ]
    },
    {
      "cell_type": "markdown",
      "source": [
        "***ทําการ normalize pixel จากเดิมค่าอยู่ระหว่าง 0-255 ให้อยู่ในช่วง 0-1 เพื่อให้การประมวลผลนั้น ง่ายและเร็ว***"
      ],
      "metadata": {
        "id": "ZMHG-k2YGLZ9"
      }
    },
    {
      "cell_type": "code",
      "source": [
        "# normalize pixel values\n",
        "\n",
        "x_train = x_train.astype('float32') / 255.0\n",
        "x_test = x_test.astype('float32') / 255.0\n",
        "print(x_train)"
      ],
      "metadata": {
        "colab": {
          "base_uri": "https://localhost:8080/"
        },
        "id": "ONOCziNnGNkV",
        "outputId": "eed4fd8d-2808-4809-ba6f-c6a63a79b2b1"
      },
      "execution_count": null,
      "outputs": [
        {
          "output_type": "stream",
          "name": "stdout",
          "text": [
            "[[[[0.00784314 0.01568628 0.01568628]\n",
            "   [0.00392157 0.01176471 0.01176471]\n",
            "   [0.00784314 0.01568628 0.01568628]\n",
            "   ...\n",
            "   [0.05882353 0.07058824 0.08627451]\n",
            "   [0.01568628 0.02352941 0.02352941]\n",
            "   [0.01176471 0.01176471 0.01176471]]\n",
            "\n",
            "  [[0.00784314 0.01568628 0.01568628]\n",
            "   [0.01176471 0.01960784 0.02352941]\n",
            "   [0.00784314 0.01568628 0.01568628]\n",
            "   ...\n",
            "   [0.06666667 0.08235294 0.08627451]\n",
            "   [0.00784314 0.01568628 0.01568628]\n",
            "   [0.         0.00784314 0.00784314]]\n",
            "\n",
            "  [[0.01568628 0.02352941 0.02745098]\n",
            "   [0.01176471 0.01960784 0.01960784]\n",
            "   [0.01176471 0.01960784 0.01960784]\n",
            "   ...\n",
            "   [0.05490196 0.07450981 0.07843138]\n",
            "   [0.00392157 0.01176471 0.01176471]\n",
            "   [0.00392157 0.01176471 0.01176471]]\n",
            "\n",
            "  ...\n",
            "\n",
            "  [[0.6627451  0.7529412  0.74509805]\n",
            "   [0.12156863 0.3254902  0.28627452]\n",
            "   [0.03921569 0.10196079 0.06666667]\n",
            "   ...\n",
            "   [0.02745098 0.03529412 0.03921569]\n",
            "   [0.02352941 0.03137255 0.03529412]\n",
            "   [0.02745098 0.03529412 0.03921569]]\n",
            "\n",
            "  [[0.01960784 0.02745098 0.02745098]\n",
            "   [0.01960784 0.02745098 0.03137255]\n",
            "   [0.03137255 0.03921569 0.04313726]\n",
            "   ...\n",
            "   [0.01960784 0.02745098 0.03137255]\n",
            "   [0.01960784 0.02745098 0.02745098]\n",
            "   [0.03137255 0.03921569 0.04313726]]\n",
            "\n",
            "  [[0.02352941 0.03137255 0.03529412]\n",
            "   [0.02352941 0.03137255 0.03529412]\n",
            "   [0.02352941 0.03137255 0.03529412]\n",
            "   ...\n",
            "   [0.7058824  0.7137255  0.7176471 ]\n",
            "   [0.01568628 0.02352941 0.02745098]\n",
            "   [0.4862745  0.49411765 0.49803922]]]\n",
            "\n",
            "\n",
            " [[[0.03529412 0.05098039 0.05490196]\n",
            "   [0.02352941 0.03137255 0.03137255]\n",
            "   [0.02352941 0.02352941 0.02352941]\n",
            "   ...\n",
            "   [0.02352941 0.02352941 0.02352941]\n",
            "   [0.07450981 0.1254902  0.12156863]\n",
            "   [0.03529412 0.06666667 0.06666667]]\n",
            "\n",
            "  [[0.04313726 0.07058824 0.07058824]\n",
            "   [0.03529412 0.05882353 0.05098039]\n",
            "   [0.02745098 0.03529412 0.03529412]\n",
            "   ...\n",
            "   [0.01568628 0.01568628 0.01568628]\n",
            "   [0.00784314 0.00784314 0.01176471]\n",
            "   [0.00784314 0.01176471 0.01176471]]\n",
            "\n",
            "  [[0.2784314  0.34901962 0.32156864]\n",
            "   [0.25490198 0.31764707 0.3137255 ]\n",
            "   [0.16862746 0.22352941 0.21568628]\n",
            "   ...\n",
            "   [0.04313726 0.04313726 0.04313726]\n",
            "   [0.04313726 0.05098039 0.05098039]\n",
            "   [0.00784314 0.00784314 0.00784314]]\n",
            "\n",
            "  ...\n",
            "\n",
            "  [[0.00392157 0.02352941 0.01960784]\n",
            "   [0.03921569 0.03137255 0.03137255]\n",
            "   [0.01176471 0.01176471 0.01176471]\n",
            "   ...\n",
            "   [0.1882353  0.24313726 0.22745098]\n",
            "   [0.04313726 0.04313726 0.04313726]\n",
            "   [0.04313726 0.04313726 0.04313726]]\n",
            "\n",
            "  [[0.2901961  0.34901962 0.36078432]\n",
            "   [0.3372549  0.41960785 0.36078432]\n",
            "   [0.78431374 0.827451   0.8039216 ]\n",
            "   ...\n",
            "   [0.14117648 0.18039216 0.17254902]\n",
            "   [0.02352941 0.02352941 0.02352941]\n",
            "   [0.03137255 0.03137255 0.03137255]]\n",
            "\n",
            "  [[0.05490196 0.16470589 0.10196079]\n",
            "   [0.16078432 0.26666668 0.25490198]\n",
            "   [0.28627452 0.3647059  0.43137255]\n",
            "   ...\n",
            "   [0.03921569 0.04313726 0.04313726]\n",
            "   [0.03921569 0.03921569 0.03921569]\n",
            "   [0.03921569 0.03921569 0.03921569]]]\n",
            "\n",
            "\n",
            " [[[0.23921569 0.34901962 0.27058825]\n",
            "   [0.01568628 0.28235295 0.23137255]\n",
            "   [0.19607843 0.38039216 0.32941177]\n",
            "   ...\n",
            "   [0.01568628 0.3137255  0.15294118]\n",
            "   [0.01960784 0.36862746 0.1764706 ]\n",
            "   [0.03529412 0.2627451  0.15294118]]\n",
            "\n",
            "  [[0.14117648 0.28235295 0.25490198]\n",
            "   [0.29803923 0.44705883 0.40784314]\n",
            "   [0.01176471 0.4        0.3529412 ]\n",
            "   ...\n",
            "   [0.05882353 0.34117648 0.18431373]\n",
            "   [0.04705882 0.3529412  0.19215687]\n",
            "   [0.03529412 0.23529412 0.1254902 ]]\n",
            "\n",
            "  [[0.04705882 0.11372549 0.05882353]\n",
            "   [0.04705882 0.09411765 0.05490196]\n",
            "   [0.42745098 0.654902   0.5529412 ]\n",
            "   ...\n",
            "   [0.05490196 0.32941177 0.16862746]\n",
            "   [0.03921569 0.3254902  0.19607843]\n",
            "   [0.03921569 0.32156864 0.19607843]]\n",
            "\n",
            "  ...\n",
            "\n",
            "  [[1.         1.         1.        ]\n",
            "   [1.         1.         1.        ]\n",
            "   [1.         1.         1.        ]\n",
            "   ...\n",
            "   [0.15294118 0.2627451  0.18431373]\n",
            "   [0.14117648 0.2509804  0.17254902]\n",
            "   [0.14901961 0.25882354 0.21176471]]\n",
            "\n",
            "  [[1.         1.         1.        ]\n",
            "   [1.         1.         1.        ]\n",
            "   [1.         1.         1.        ]\n",
            "   ...\n",
            "   [0.47058824 0.5137255  0.4509804 ]\n",
            "   [0.7607843  0.74509805 0.7019608 ]\n",
            "   [0.64705884 0.62352943 0.5803922 ]]\n",
            "\n",
            "  [[1.         1.         1.        ]\n",
            "   [1.         1.         1.        ]\n",
            "   [1.         1.         1.        ]\n",
            "   ...\n",
            "   [0.76862746 0.7411765  0.68235296]\n",
            "   [0.8235294  0.78039217 0.7254902 ]\n",
            "   [0.79607844 0.75686276 0.7058824 ]]]\n",
            "\n",
            "\n",
            " ...\n",
            "\n",
            "\n",
            " [[[0.25882354 0.34901962 0.33333334]\n",
            "   [0.28235295 0.37254903 0.35686275]\n",
            "   [0.27058825 0.37254903 0.34901962]\n",
            "   ...\n",
            "   [0.27058825 0.38039216 0.38039216]\n",
            "   [0.2901961  0.38431373 0.38431373]\n",
            "   [0.28627452 0.38039216 0.38039216]]\n",
            "\n",
            "  [[0.2627451  0.34509805 0.34901962]\n",
            "   [0.25490198 0.3372549  0.34117648]\n",
            "   [0.27450982 0.36862746 0.36862746]\n",
            "   ...\n",
            "   [0.29803923 0.39215687 0.39215687]\n",
            "   [0.29411766 0.3882353  0.3882353 ]\n",
            "   [0.29411766 0.3882353  0.3882353 ]]\n",
            "\n",
            "  [[0.24705882 0.33333334 0.35686275]\n",
            "   [0.2627451  0.34901962 0.37254903]\n",
            "   [0.25490198 0.3529412  0.36078432]\n",
            "   ...\n",
            "   [0.30980393 0.41568628 0.4       ]\n",
            "   [0.3019608  0.40784314 0.39607844]\n",
            "   [0.28235295 0.41568628 0.3764706 ]]\n",
            "\n",
            "  ...\n",
            "\n",
            "  [[0.3019608  0.4509804  0.3372549 ]\n",
            "   [0.16078432 0.41960785 0.30588236]\n",
            "   [0.18431373 0.41960785 0.33333334]\n",
            "   ...\n",
            "   [0.34117648 0.6392157  0.44313726]\n",
            "   [0.1254902  0.4        0.23137255]\n",
            "   [0.32941177 0.6117647  0.44313726]]\n",
            "\n",
            "  [[0.3647059  0.47843137 0.4392157 ]\n",
            "   [0.33333334 0.48235294 0.41568628]\n",
            "   [0.37254903 0.49019608 0.4392157 ]\n",
            "   ...\n",
            "   [0.44313726 0.68235296 0.50980395]\n",
            "   [0.46666667 0.654902   0.5019608 ]\n",
            "   [0.37254903 0.6156863  0.49803922]]\n",
            "\n",
            "  [[0.34117648 0.4862745  0.45490196]\n",
            "   [0.3372549  0.47058824 0.42745098]\n",
            "   [0.35686275 0.4627451  0.4117647 ]\n",
            "   ...\n",
            "   [0.36862746 0.58431375 0.47058824]\n",
            "   [0.30980393 0.53333336 0.4392157 ]\n",
            "   [0.28235295 0.5019608  0.41960785]]]\n",
            "\n",
            "\n",
            " [[[0.         0.09803922 0.03529412]\n",
            "   [0.00392157 0.10588235 0.04313726]\n",
            "   [0.         0.10588235 0.02745098]\n",
            "   ...\n",
            "   [0.         0.         0.        ]\n",
            "   [0.         0.         0.        ]\n",
            "   [0.         0.         0.        ]]\n",
            "\n",
            "  [[0.01960784 0.14509805 0.07843138]\n",
            "   [0.01568628 0.14117648 0.07450981]\n",
            "   [0.         0.1254902  0.04313726]\n",
            "   ...\n",
            "   [0.         0.         0.        ]\n",
            "   [0.         0.         0.        ]\n",
            "   [0.         0.         0.        ]]\n",
            "\n",
            "  [[0.04313726 0.19607843 0.09803922]\n",
            "   [0.01176471 0.16470589 0.06666667]\n",
            "   [0.02352941 0.16470589 0.07058824]\n",
            "   ...\n",
            "   [0.         0.00784314 0.        ]\n",
            "   [0.         0.00392157 0.        ]\n",
            "   [0.         0.00392157 0.        ]]\n",
            "\n",
            "  ...\n",
            "\n",
            "  [[0.01960784 0.2784314  0.15686275]\n",
            "   [0.08235294 0.28627452 0.17254902]\n",
            "   [0.05490196 0.2509804  0.13333334]\n",
            "   ...\n",
            "   [0.00392157 0.12156863 0.07058824]\n",
            "   [0.01568628 0.10980392 0.07058824]\n",
            "   [0.00784314 0.03137255 0.01960784]]\n",
            "\n",
            "  [[0.         0.07058824 0.01960784]\n",
            "   [0.09803922 0.28235295 0.16470589]\n",
            "   [0.10196079 0.2901961  0.17254902]\n",
            "   ...\n",
            "   [0.01568628 0.14509805 0.09019608]\n",
            "   [0.         0.03921569 0.02745098]\n",
            "   [0.         0.         0.00392157]]\n",
            "\n",
            "  [[0.01176471 0.07450981 0.00392157]\n",
            "   [0.         0.07450981 0.00392157]\n",
            "   [0.10980392 0.2784314  0.16862746]\n",
            "   ...\n",
            "   [0.01960784 0.14901961 0.09411765]\n",
            "   [0.03137255 0.12941177 0.09019608]\n",
            "   [0.         0.00784314 0.        ]]]\n",
            "\n",
            "\n",
            " [[[0.29411766 0.54509807 0.54509807]\n",
            "   [0.2509804  0.52156866 0.53333336]\n",
            "   [0.22745098 0.42745098 0.42745098]\n",
            "   ...\n",
            "   [0.07058824 0.3372549  0.3882353 ]\n",
            "   [0.03921569 0.32156864 0.36862746]\n",
            "   [0.05098039 0.34509805 0.40784314]]\n",
            "\n",
            "  [[0.22352941 0.5176471  0.5254902 ]\n",
            "   [0.29803923 0.4627451  0.46666667]\n",
            "   [0.34117648 0.44313726 0.44313726]\n",
            "   ...\n",
            "   [0.07450981 0.32941177 0.3647059 ]\n",
            "   [0.03137255 0.31764707 0.34901962]\n",
            "   [0.03529412 0.33333334 0.38039216]]\n",
            "\n",
            "  [[0.21960784 0.38431373 0.3882353 ]\n",
            "   [0.7019608  0.5254902  0.54509807]\n",
            "   [0.44313726 0.4745098  0.49019608]\n",
            "   ...\n",
            "   [0.09019608 0.3529412  0.37254903]\n",
            "   [0.05882353 0.34509805 0.36078432]\n",
            "   [0.07058824 0.35686275 0.37254903]]\n",
            "\n",
            "  ...\n",
            "\n",
            "  [[0.6392157  0.29411766 0.34901962]\n",
            "   [0.6509804  0.30980393 0.3647059 ]\n",
            "   [0.6745098  0.3372549  0.38431373]\n",
            "   ...\n",
            "   [0.20392157 0.5372549  0.52156866]\n",
            "   [0.43137255 0.5411765  0.54509807]\n",
            "   [0.12941177 0.45490196 0.42352942]]\n",
            "\n",
            "  [[0.6039216  0.27450982 0.32156864]\n",
            "   [0.62352943 0.2784314  0.32941177]\n",
            "   [0.6509804  0.3254902  0.37254903]\n",
            "   ...\n",
            "   [0.3019608  0.6039216  0.57254905]\n",
            "   [0.45490196 0.69411767 0.7529412 ]\n",
            "   [0.24313726 0.5058824  0.47843137]]\n",
            "\n",
            "  [[0.654902   0.3254902  0.37254903]\n",
            "   [0.63529414 0.2901961  0.34117648]\n",
            "   [0.67058825 0.33333334 0.38039216]\n",
            "   ...\n",
            "   [0.4745098  0.58431375 0.5686275 ]\n",
            "   [0.23921569 0.56078434 0.5568628 ]\n",
            "   [0.12941177 0.5019608  0.45882353]]]]\n"
          ]
        }
      ]
    },
    {
      "cell_type": "markdown",
      "source": [
        "***ทําการสร้าง model***"
      ],
      "metadata": {
        "id": "QtZfZBlDGv82"
      }
    },
    {
      "cell_type": "code",
      "source": [
        "# define model\n",
        "\n",
        "model = Sequential() # สร้าง Model เเบบ Sequential\n",
        "model.add(Conv2D(32, (3, 3), activation='relu', kernel_initializer='he_uniform', input_shape=in_shape)) # Convolutional Layer เป็นขั้นตอนแรกในกระบวนการดึงคุณลักษณะของ image\n",
        "model.add(MaxPooling2D((2, 2)))\n",
        "model.add(Conv2D(32, (3, 3), activation='relu', kernel_initializer='he_uniform', input_shape=in_shape)) # Convolutional Layer เป็นขั้นตอนแรกในกระบวนการดึงคุณลักษณะของ image\n",
        "model.add(MaxPooling2D((2, 2)))\n",
        "model.add(Flatten()) # คือการเเปลงข้อมูลให้เป็น Array 1 D\n",
        "model.add(Dense(100, activation='relu', kernel_initializer='he_uniform'))\n",
        "model.add(Dropout(0.5))\n",
        "model.add(Dense(n_classes, activation='softmax')) # softmax จะทำให้ค่าที่ได้ไม่ติดลบ"
      ],
      "metadata": {
        "id": "13-xILCSGxxi"
      },
      "execution_count": null,
      "outputs": []
    },
    {
      "cell_type": "markdown",
      "source": [
        "***กําหนดรูปแบบการประมวลผล***"
      ],
      "metadata": {
        "id": "i2y6qOiMG4ju"
      }
    },
    {
      "cell_type": "code",
      "source": [
        "# define loss and optimizer\n",
        "model.compile(optimizer='adam', loss='sparse_categorical_crossentropy', metrics=['accuracy'])"
      ],
      "metadata": {
        "id": "LZjmvTlLG6jX"
      },
      "execution_count": null,
      "outputs": []
    },
    {
      "cell_type": "markdown",
      "source": [
        "***ทําการ Train model***"
      ],
      "metadata": {
        "id": "rMtC5zQiHEyf"
      }
    },
    {
      "cell_type": "code",
      "source": [
        "# fit the model\n",
        "model.fit(x_train, y_train, epochs=15, batch_size=128, verbose=1) # epochs=15 หมายถึงให้ model นี้ฝึกฝน 15 รอบ"
      ],
      "metadata": {
        "colab": {
          "base_uri": "https://localhost:8080/"
        },
        "id": "CvSTgeTiHHqI",
        "outputId": "072186c7-a41f-4349-ff66-4908a4ee0a1b"
      },
      "execution_count": null,
      "outputs": [
        {
          "output_type": "stream",
          "name": "stdout",
          "text": [
            "Epoch 1/15\n",
            "77/77 [==============================] - 8s 92ms/step - loss: 1.8623 - accuracy: 0.3040\n",
            "Epoch 2/15\n",
            "77/77 [==============================] - 8s 108ms/step - loss: 1.4826 - accuracy: 0.4541\n",
            "Epoch 3/15\n",
            "77/77 [==============================] - 7s 85ms/step - loss: 1.3352 - accuracy: 0.5168\n",
            "Epoch 4/15\n",
            "77/77 [==============================] - 8s 107ms/step - loss: 1.2361 - accuracy: 0.5552\n",
            "Epoch 5/15\n",
            "77/77 [==============================] - 6s 77ms/step - loss: 1.1500 - accuracy: 0.5859\n",
            "Epoch 6/15\n",
            "77/77 [==============================] - 8s 105ms/step - loss: 1.0930 - accuracy: 0.6107\n",
            "Epoch 7/15\n",
            "77/77 [==============================] - 6s 80ms/step - loss: 1.0513 - accuracy: 0.6264\n",
            "Epoch 8/15\n",
            "77/77 [==============================] - 8s 108ms/step - loss: 0.9938 - accuracy: 0.6496\n",
            "Epoch 9/15\n",
            "77/77 [==============================] - 6s 83ms/step - loss: 0.9571 - accuracy: 0.6607\n",
            "Epoch 10/15\n",
            "77/77 [==============================] - 8s 109ms/step - loss: 0.9097 - accuracy: 0.6795\n",
            "Epoch 11/15\n",
            "77/77 [==============================] - 6s 76ms/step - loss: 0.8707 - accuracy: 0.6950\n",
            "Epoch 12/15\n",
            "77/77 [==============================] - 8s 98ms/step - loss: 0.8385 - accuracy: 0.7056\n",
            "Epoch 13/15\n",
            "77/77 [==============================] - 7s 87ms/step - loss: 0.8059 - accuracy: 0.7123\n",
            "Epoch 14/15\n",
            "77/77 [==============================] - 7s 88ms/step - loss: 0.7786 - accuracy: 0.7294\n",
            "Epoch 15/15\n",
            "77/77 [==============================] - 8s 102ms/step - loss: 0.7483 - accuracy: 0.7343\n"
          ]
        },
        {
          "output_type": "execute_result",
          "data": {
            "text/plain": [
              "<keras.src.callbacks.History at 0x7c4c0c162e30>"
            ]
          },
          "metadata": {},
          "execution_count": 21
        }
      ]
    },
    {
      "cell_type": "markdown",
      "source": [
        "***ทําการประเมินประสิทธิภาพ model***"
      ],
      "metadata": {
        "id": "qUpeRT1BOY29"
      }
    },
    {
      "cell_type": "code",
      "source": [
        "# evaluate the model\n",
        "loss, acc = model.evaluate(x_test, y_test, verbose=0)\n",
        "print(f'Accuracy: {acc:.3f}')"
      ],
      "metadata": {
        "colab": {
          "base_uri": "https://localhost:8080/"
        },
        "id": "oGsM72zyObzz",
        "outputId": "0ee3bdfb-64e9-4ac2-d2c2-ac81d13a2018"
      },
      "execution_count": null,
      "outputs": [
        {
          "output_type": "stream",
          "name": "stdout",
          "text": [
            "Accuracy: 0.757\n"
          ]
        }
      ]
    },
    {
      "cell_type": "code",
      "source": [
        "# make a prediction\n",
        "import matplotlib.pyplot as plt\n",
        "plt.imshow(x_test[66]) # เเสดงรูปภาพออกมาดู"
      ],
      "metadata": {
        "colab": {
          "base_uri": "https://localhost:8080/",
          "height": 447
        },
        "id": "CvS3yoJ8eoGs",
        "outputId": "7fb37060-d541-49aa-e5d5-b4da55e80e92"
      },
      "execution_count": null,
      "outputs": [
        {
          "output_type": "execute_result",
          "data": {
            "text/plain": [
              "<matplotlib.image.AxesImage at 0x7c4c06dbbe50>"
            ]
          },
          "metadata": {},
          "execution_count": 23
        },
        {
          "output_type": "display_data",
          "data": {
            "text/plain": [
              "<Figure size 640x480 with 1 Axes>"
            ],
            "image/png": "[encoded data removed]"
          },
          "metadata": {}
        }
      ]
    },
    {
      "cell_type": "markdown",
      "source": [
        "***นํา model ไปใช้งาน***"
      ],
      "metadata": {
        "id": "sGiHMfLQO-m0"
      }
    },
    {
      "cell_type": "code",
      "source": [
        "image = x_test[66]\n",
        "yhat = model.predict(np.expand_dims(image, axis=0))\n",
        "print(f'Predicted: class={np.argmax(yhat)}')\n",
        "print(yhat)"
      ],
      "metadata": {
        "colab": {
          "base_uri": "https://localhost:8080/"
        },
        "id": "OZComPmtPAoZ",
        "outputId": "3dcb5bdf-104a-47cb-99af-be9d2cda473d"
      },
      "execution_count": null,
      "outputs": [
        {
          "output_type": "stream",
          "name": "stdout",
          "text": [
            "1/1 [==============================] - 0s 100ms/step\n",
            "Predicted: class=8\n",
            "[[4.1151943e-04 1.9625772e-06 6.2105753e-02 9.0783700e-02 1.3125691e-02\n",
            "  1.2968765e-03 6.8102956e-02 5.0297465e-05 7.5678033e-01 7.3408936e-03]]\n"
          ]
        }
      ]
    },
    {
      "cell_type": "markdown",
      "source": [
        "***Save Model to file***"
      ],
      "metadata": {
        "id": "bRUztw11CFDC"
      }
    },
    {
      "cell_type": "code",
      "source": [
        "model.save('/content/drive/MyDrive/AI Deep Learning/AI Project/Save Model/model_flower.h5')"
      ],
      "metadata": {
        "colab": {
          "base_uri": "https://localhost:8080/"
        },
        "id": "lEbaUtntlkim",
        "outputId": "0cf01b48-3278-41b0-c4d4-181310bcd8f4"
      },
      "execution_count": null,
      "outputs": [
        {
          "output_type": "stream",
          "name": "stderr",
          "text": [
            "/usr/local/lib/python3.10/dist-packages/keras/src/engine/training.py:3079: UserWarning: You are saving your model as an HDF5 file via `model.save()`. This file format is considered legacy. We recommend using instead the native Keras format, e.g. `model.save('my_model.keras')`.\n",
            "  saving_api.save_model(\n"
          ]
        }
      ]
    }
  ]
}